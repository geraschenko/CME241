{
  "cells": [
    {
      "cell_type": "markdown",
      "metadata": {
        "id": "view-in-github",
        "colab_type": "text"
      },
      "source": [
        "<a href=\"https://colab.research.google.com/github/geraschenko/CME241/blob/main/assignments/assignment4.ipynb\" target=\"_parent\"><img src=\"https://colab.research.google.com/assets/colab-badge.svg\" alt=\"Open In Colab\"/></a>"
      ]
    },
    {
      "cell_type": "markdown",
      "metadata": {
        "id": "dRZwETE0FWT2"
      },
      "source": [
        "# Stanford CME 241 (Winter 2024) - Assignment 4\n",
        "\n",
        "**Due: Feb 5 @ 11:59pm Pacific Time on Gradescope.**\n",
        "\n",
        "Assignment instructions:\n",
        "- **Please solve questions 1 and 2, and choose one of questions 3 or 4.**\n",
        "- Empty code blocks are for your use. Feel free to create more under each section as needed.\n",
        "\n",
        "Submission instructions:\n",
        "- When complete, fill out your publicly available GitHub repo file URL and group members below, then export or print this .ipynb file to PDF and upload the PDF to Gradescope.\n",
        "\n",
        "*Link to this ipynb file in your public GitHub repo (replace below URL with yours):*\n",
        "\n",
        "https://github.com/geraschenko/CME241/blob/main/assignments/assignment4.ipynb\n",
        "\n",
        "*Group members (replace below names with people in your group):*\n",
        "- Anton Geraschenko\n",
        "- Felipe Campos"
      ]
    },
    {
      "cell_type": "markdown",
      "metadata": {
        "id": "gDE5fTAoFWT4"
      },
      "source": [
        "## Imports"
      ]
    },
    {
      "cell_type": "code",
      "execution_count": 1,
      "metadata": {
        "colab": {
          "base_uri": "https://localhost:8080/"
        },
        "id": "gQXh9O_oCida",
        "outputId": "2c0edfd8-942e-4817-daac-07c2c7085f86"
      },
      "outputs": [
        {
          "output_type": "stream",
          "name": "stdout",
          "text": [
            "  Preparing metadata (setup.py) ... \u001b[?25l\u001b[?25hdone\n",
            "  Building wheel for rl-book (setup.py) ... \u001b[?25l\u001b[?25hdone\n"
          ]
        }
      ],
      "source": [
        "!pip install -q git+https://github.com/TikhonJelvis/RL-book.git"
      ]
    },
    {
      "cell_type": "code",
      "execution_count": 12,
      "metadata": {
        "id": "qIjgxrg7gYN9"
      },
      "outputs": [],
      "source": [
        "import matplotlib.pyplot as plt\n",
        "import numpy as np\n",
        "\n",
        "from typing import Iterator, Tuple, TypeVar, Sequence, List\n",
        "from operator import itemgetter\n",
        "from rl.distribution import Categorical, Choose\n",
        "from rl.function_approx import FunctionApprox\n",
        "from rl.iterate import iterate, converge, converged\n",
        "from rl.markov_process import (FiniteMarkovRewardProcess, MarkovRewardProcess,\n",
        "                               RewardTransition, NonTerminal, State)\n",
        "from rl.markov_decision_process import (FiniteMarkovDecisionProcess,\n",
        "                                        MarkovDecisionProcess,\n",
        "                                        StateActionMapping)\n",
        "from rl.function_approx import (Dynamic,\n",
        "                                Tabular,\n",
        "                                LinearFunctionApprox,\n",
        "                                DNNApprox,\n",
        "                                DNNSpec)\n",
        "import rl.dynamic_programming\n",
        "from rl.approximate_dynamic_programming import (\n",
        "    evaluate_mrp,\n",
        "    extended_vf,\n",
        "    value_iteration,\n",
        "    ValueFunctionApprox,\n",
        "    NTStateDistribution,\n",
        "    )\n",
        "from rl.policy import DeterministicPolicy\n",
        "\n",
        "S = TypeVar('S')\n",
        "A = TypeVar('A')"
      ]
    },
    {
      "cell_type": "markdown",
      "metadata": {
        "id": "sP-jlwjsFWT5"
      },
      "source": [
        "## Question 1\n",
        "Implement *Approximate Policy Iteration*, generalization of the tabular\n",
        "Policy Iteration we covered in the previous class. In order to implement\n",
        "Approximate Policy Iteration, first review the interface and\n",
        "implementation of *Approximate Policy Evaluation* and *Approximate Value\n",
        "Iteration* (in file\n",
        "[rl/approximate_dynamic_programming.py](https://github.com/TikhonJelvis/RL-book/blob/master/rl/approximate_dynamic_programming.py)),\n",
        "then design the interface of *Approximate Policy Iteration* to be the\n",
        "same as that of *Approximate Value Iteration*. Note that your\n",
        "implementation of *Approximate Policy Iteration* would need to invoke\n",
        "*Approximate Policy Evaluation* since Policy Evaluation is a component\n",
        "of Policy Iteration. Test that your implementation is correct in two\n",
        "ways:\n",
        "\n",
        "-   Ensure that *Approximate Policy Iteration* gives the same Optimal\n",
        "    Value Function/Optimal Policy as that obtained by *Approximate Value\n",
        "    Iteration*.\n",
        "\n",
        "-   Ensure that *Approximate Policy Iteration* produces the same result\n",
        "    as our prior implementation of Policy Iteration (in file\n",
        "    [rl/dynamic_programming.py](https://github.com/TikhonJelvis/RL-book/blob/master/rl/dynamic_programming.py)).\n",
        "    For this you need to pass to your implementation of *Approximate\n",
        "    Policy Iteration* a `FiniteMarkovDecisionProcess` input and a\n",
        "    `Tabular` instance for the `FunctionApprox` input."
      ]
    },
    {
      "cell_type": "code",
      "execution_count": 3,
      "metadata": {
        "id": "6Pz8ORDRFWT6"
      },
      "outputs": [],
      "source": [
        "def greedy_policy(mdp: MarkovDecisionProcess[S, A],\n",
        "                  v: ValueFunctionApprox[S],\n",
        "                  gamma: float\n",
        "                 ) -> DeterministicPolicy[S, A]:\n",
        "  def return_(s_r: Tuple[State[S], float]) -> float:\n",
        "      s1, r = s_r\n",
        "      return r + gamma * extended_vf(v, s1)\n",
        "\n",
        "  def greedy_action(state: S) -> A:\n",
        "    return max(\n",
        "        (mdp.step(NonTerminal(state), a).expectation(return_), a)\n",
        "        for a in mdp.actions(NonTerminal(state))\n",
        "    )[1]\n",
        "\n",
        "  return DeterministicPolicy(greedy_action)\n",
        "\n",
        "def within(tolerance: float):\n",
        "  def done(v1, v2):\n",
        "    return v1.within(v2, tolerance)\n",
        "  return done\n",
        "\n",
        "def policy_iteration(\n",
        "    mdp: MarkovDecisionProcess[S, A],\n",
        "    gamma: float,\n",
        "    approx_0: ValueFunctionApprox[S],\n",
        "    non_terminal_states_distribution: NTStateDistribution[S],\n",
        "    num_state_samples: int,\n",
        "    policy_estimation_tolerance: float = 1e-2,\n",
        ") -> Iterator[ValueFunctionApprox[S]]:\n",
        "\n",
        "  def update(v: ValueFunctionApprox[S]) -> ValueFunctionApprox[S]:\n",
        "    policy = greedy_policy(mdp, v, gamma)\n",
        "    mrp = mdp.apply_policy(policy)\n",
        "    return converged(evaluate_mrp(mrp, gamma, v, non_terminal_states_distribution, num_state_samples),\n",
        "                     done=within(policy_estimation_tolerance))\n",
        "\n",
        "  return iterate(update, approx_0)"
      ]
    },
    {
      "cell_type": "code",
      "execution_count": 4,
      "metadata": {
        "id": "NoHQUl7ew5Lo"
      },
      "outputs": [],
      "source": [
        "def random_finite_mdp(states, actions, rng):\n",
        "  mapping = {}\n",
        "  for s in states:\n",
        "    d = {}\n",
        "    for a in actions:\n",
        "      probs = rng.random(len(states))\n",
        "      probs = probs / probs.sum()\n",
        "      rewards = rng.random(len(states))\n",
        "      d[a] = Categorical({(s1, r): p for s1, r, p in zip(states, rewards, probs)})\n",
        "    mapping[s] = d\n",
        "  return FiniteMarkovDecisionProcess(mapping)"
      ]
    },
    {
      "cell_type": "code",
      "execution_count": 5,
      "metadata": {
        "id": "xPx2jDWnyFaW"
      },
      "outputs": [],
      "source": [
        "# Set up an MDP and choose parameters for testing.\n",
        "rng = np.random.default_rng(0)\n",
        "states = list(range(3))\n",
        "actions = ['a', 'b']\n",
        "mdp = random_finite_mdp(states, actions, rng)\n",
        "gamma = 0.99\n",
        "nt_distribution = Choose(NonTerminal(s) for s in states)\n",
        "num_state_samples = 100"
      ]
    },
    {
      "cell_type": "markdown",
      "source": [
        "### Compare to approximate value iteration"
      ],
      "metadata": {
        "id": "x4GIjt2ZD7hd"
      }
    },
    {
      "cell_type": "code",
      "execution_count": 6,
      "metadata": {
        "id": "RGmVJ_DA5grj"
      },
      "outputs": [],
      "source": [
        "# Using Tabular instead of Dynamic doesn't work right for me. The values end up\n",
        "# way too small, and are sensitive to the choice of num_state_samples. I must\n",
        "# be misunderstanding something about Tabular.\n",
        "\n",
        "approx_0 = Dynamic(values_map={NonTerminal(s): 0 for s in states})"
      ]
    },
    {
      "cell_type": "code",
      "execution_count": 22,
      "metadata": {
        "colab": {
          "base_uri": "https://localhost:8080/"
        },
        "id": "euEeRVOY4MUw",
        "outputId": "5a5ef74d-2e00-45fa-f427-5c4d579f05a6"
      },
      "outputs": [
        {
          "output_type": "stream",
          "name": "stdout",
          "text": [
            "Dynamic(values_map={NonTerminal(state=0): 61.672008906350015, NonTerminal(state=1): 61.50356865684704, NonTerminal(state=2): 61.89004437222002})\n",
            "{0: Constant(value='b'), 1: Constant(value='a'), 2: Constant(value='a')}\n",
            "CPU times: user 196 ms, sys: 993 µs, total: 197 ms\n",
            "Wall time: 211 ms\n"
          ]
        }
      ],
      "source": [
        "%%time\n",
        "v_value_iteration = converged(value_iteration(mdp, gamma, approx_0, nt_distribution, num_state_samples), within(1e-4))\n",
        "print(v_value_iteration)\n",
        "p = greedy_policy(mdp, v_value_iteration, gamma)\n",
        "print({s: p.act(NonTerminal(s)) for s in states})"
      ]
    },
    {
      "cell_type": "code",
      "execution_count": null,
      "metadata": {
        "id": "I5s5QstF7TXD"
      },
      "outputs": [],
      "source": [
        "# This is so slow! I reduced num_state_samples to speed it up a bit.\n",
        "num_state_samples = 10\n",
        "v_policy_iteration = converged(policy_iteration(mdp, gamma, approx_0, nt_distribution, num_state_samples), within(1e-3))"
      ]
    },
    {
      "cell_type": "code",
      "source": [
        "print(v_policy_iteration)\n",
        "p = greedy_policy(mdp, v_policy_iteration, gamma)\n",
        "print({s: p.act(NonTerminal(s)) for s in states})"
      ],
      "metadata": {
        "colab": {
          "base_uri": "https://localhost:8080/"
        },
        "id": "Kv3OM0KXLnv0",
        "outputId": "2fe9e69d-d712-496c-da92-7a195004b06f"
      },
      "execution_count": 21,
      "outputs": [
        {
          "output_type": "stream",
          "name": "stdout",
          "text": [
            "Dynamic(values_map={NonTerminal(state=0): 61.618736600199554, NonTerminal(state=1): 61.45324308399359, NonTerminal(state=2): 61.84072809164283})\n",
            "{0: Constant(value='b'), 1: Constant(value='a'), 2: Constant(value='a')}\n"
          ]
        }
      ]
    },
    {
      "cell_type": "code",
      "source": [
        "assert v_value_iteration.within(v_policy_iteration, 1e-1)"
      ],
      "metadata": {
        "id": "2dUDeSGDDtVK"
      },
      "execution_count": 24,
      "outputs": []
    },
    {
      "cell_type": "markdown",
      "source": [
        "### Compare to finite policy iteration\n"
      ],
      "metadata": {
        "id": "6ZAp1xaeD-iK"
      }
    },
    {
      "cell_type": "code",
      "source": [
        "def done(v_pi1, v_pi2):\n",
        "  v1 = v_pi1[0]\n",
        "  v2 = v_pi2[0]\n",
        "  return all(abs(v1[s] - v2[s]) < 1e-4 for s in v1.keys())\n",
        "\n",
        "v_finite_policy_iteration, policy = converged(rl.dynamic_programming.policy_iteration(mdp, gamma), done)\n",
        "v_finite_policy_iteration"
      ],
      "metadata": {
        "colab": {
          "base_uri": "https://localhost:8080/"
        },
        "id": "7xMsjK56EGhx",
        "outputId": "3c20cb22-7875-422e-abcc-cd2373977d62"
      },
      "execution_count": 25,
      "outputs": [
        {
          "output_type": "execute_result",
          "data": {
            "text/plain": [
              "{NonTerminal(state=0): 61.68095215611541,\n",
              " NonTerminal(state=1): 61.51241262034812,\n",
              " NonTerminal(state=2): 61.8988883357211}"
            ]
          },
          "metadata": {},
          "execution_count": 25
        }
      ]
    },
    {
      "cell_type": "code",
      "source": [
        "assert all(abs(v_policy_iteration(s) - val) < 1e-1 for s, val in v_finite_policy_iteration.items())"
      ],
      "metadata": {
        "id": "qi_VdLj6FIwc"
      },
      "execution_count": 28,
      "outputs": []
    },
    {
      "cell_type": "markdown",
      "metadata": {
        "id": "YYWP1MWbFWT6"
      },
      "source": [
        "## Question 2\n",
        "Assume the Utility function is $U(x) = x - \\frac {\\alpha x^2} 2$.\n",
        "Assuming $x \\sim \\mathcal{N}(\\mu, \\sigma^2)$, calculate:\n",
        "\n",
        "-   Expected Utility $\\mathbb{E}[U(x)]$\n",
        "\n",
        "-   Certainty-Equivalent Value $x_{CE}$\n",
        "\n",
        "-   Absolute Risk-Premium $\\pi_A$\n",
        "\n",
        "\n",
        "Assume you have a million dollars to invest for a year and you are\n",
        "allowed to invest $z$ dollars in a risky asset whose annual return on\n",
        "investment is $\\mathcal{N}(\\mu, \\sigma^2)$ and the remaining (a million\n",
        "minus $z$ dollars) would need to be invested in a riskless asset with\n",
        "fixed annual return on investment of $r$. You are not allowed to adjust\n",
        "the quantities invested in the risky and riskless assets after your\n",
        "initial investment decision at time $t=0$ (static asset allocation\n",
        "problem). If your risk-aversion is based on this Utility function, how\n",
        "much would you invest in the risky asset? In other words, what is the\n",
        "optimal value for $z$, given your level of risk-aversion (determined by\n",
        "a fixed value of $\\alpha$)?\n",
        "\n",
        "Plot how the optimal value of $z$ varies with $\\alpha$."
      ]
    },
    {
      "cell_type": "markdown",
      "metadata": {
        "id": "L6Tak_AWaQnY"
      },
      "source": [
        "---\n",
        "The expected utility is\n",
        "$$\n",
        "\\newcommand\\N{\\mathcal N}\n",
        "\\newcommand\\E{\\mathbb E}\n",
        "\\begin{align*}\n",
        "\\E[U(x)] &= \\E[x - \\alpha x^2/2]\\\\\n",
        "  &= \\E[(1 - \\alpha\\mu)(x-\\mu) - \\alpha (x-\\mu)^2/2 + (1-\\alpha\\mu/2)\\mu] \\\\\n",
        "  &=  (1 - \\alpha\\mu) \\underbrace{\\E[x-\\mu]}_{=0} - \\alpha \\underbrace{\\E[(x-\\mu)^2]}_{=\\sigma^2}/2 + (1-\\alpha\\mu/2)\\mu \\\\\n",
        "  &= \\mu - \\frac{\\alpha(\\sigma^2  + \\mu^2)}2\n",
        "\\end{align*}$$"
      ]
    },
    {
      "cell_type": "markdown",
      "metadata": {
        "id": "wkL3S4VEaTWr"
      },
      "source": [
        "---\n",
        "The certainty-equivalent value must therefore satisfy $U(x_{CE}) = x_{CE} - \\alpha x_{CE}^2/2 = \\mu - \\frac{\\alpha(\\sigma^2  + \\mu^2)}2$, which we can solve for with the quadratic formula (we'll just take the positive square root, assuming $\\mu$ is positive, and that we're interested in the certainty-equivalent value closest to it):\n",
        "$$\n",
        "x_{CE}^2 - \\frac 2\\alpha x_{CE} + \\frac{2\\mu}{\\alpha} - (\\sigma^2+\\mu^2) = 0 \\\\\n",
        "\\begin{align*}\n",
        "x_{CE} &= \\frac 1\\alpha + \\sqrt{\\frac{1}{\\alpha^2} - \\frac{2\\mu}{\\alpha} + (\\sigma^2 + \\mu^2)} \\\\\n",
        "  &= \\frac 1\\alpha + \\sqrt{\\bigl(\\mu - \\frac 1\\alpha\\bigr)^2 + \\sigma^2}\n",
        "\\end{align*}\n",
        "$$\n"
      ]
    },
    {
      "cell_type": "markdown",
      "metadata": {
        "id": "Ip84VAPraXUf"
      },
      "source": [
        "---\n",
        "The absolute risk premium is\n",
        "$$\n",
        "\\pi_A = \\mu - x_{CE} = \\bigl(\\mu - \\frac 1\\alpha\\bigr) - \\sqrt{\\bigl(\\mu - \\frac 1\\alpha\\bigr)^2 + \\sigma^2}\n",
        "$$"
      ]
    },
    {
      "cell_type": "markdown",
      "metadata": {
        "id": "iw5ltoVkFqZI"
      },
      "source": [
        "---\n",
        "If we invest $z$ in this asset and $W - z$ into a riskless asset with rate of return $r$, then our wealth a year out will be normally distributed with mean $((1+\\mu)z + (1+r)(W - z) = W(1 + r) + z(\\mu - r)$ and variance $\\sigma^2 z$. Applying the formula for expected utility above (and avoiding getting confused about the overloaded symbols \"$\\mu$\" and \"$\\sigma$\"), we have that our expected utility after a year is\n",
        "$$\n",
        "W(1+r) + z(\\mu - r) - \\frac\\alpha 2(z\\sigma^2 + (W(1+r) + z(\\mu - r))^2)\n",
        "$$\n",
        "Setting the derivative with respect to $z$ to zero, we have that the optimal $z$ satisfies\n",
        "$$\\begin{align*}\n",
        "0 &= (\\mu - r) - \\frac\\alpha 2(\\sigma^2 + 2(W(1+r) + z^*(\\mu - r))(\\mu - r))\\\\\n",
        "  &= (\\mu - r) - \\alpha\\sigma^2/2 - \\alpha W(1+r)(\\mu - r) - \\alpha z^* (\\mu -r)^2\n",
        "\\end{align*}$$\n",
        "so\n",
        "$$\n",
        "\\boxed{z^* =\\frac{1}{\\mu - r}\\Bigl(\\frac{1}{\\alpha} - \\frac{\\sigma^2}{2(\\mu - r)} - W(1+r)\\Bigr)}\n",
        "$$\n",
        "The second derivative of expected utility with respect to $z$ is $-\\alpha(\\mu - r)^2$, which is negative so long as $\\alpha$ is positive, so this critical point is a maximum.\n",
        "\n",
        "Let's spot check when $W=0$ and $\\sigma^2=0$. Investing $z$ gets a gauranteed value of $(\\mu - r)z$ after a year. The value of $x$ which maximizes utility is $x = 1/\\alpha$, so indeed $z^* = \\frac{1}{(\\mu - r)\\alpha}$ is optimal. The formula for $z^*$ is confusing to me, so I'll also check it numerically below."
      ]
    },
    {
      "cell_type": "code",
      "execution_count": 29,
      "metadata": {
        "id": "jwB50frCggwu"
      },
      "outputs": [],
      "source": [
        "def expected_utility(alpha, mean, var):\n",
        "  return mean - alpha * (var + mean**2) / 2\n",
        "\n",
        "def outcome(W, z, r, mu, sigma):\n",
        "  mean = W * (1 + r) + z * (mu - r)\n",
        "  var = np.abs(z * sigma**2)\n",
        "  return mean, var\n",
        "\n",
        "def z_star(alpha, W, r, mu, sigma):\n",
        "  return (1 / alpha - sigma**2 / (2 * (mu - r)) - W * (1 + r)) / (mu - r)"
      ]
    },
    {
      "cell_type": "code",
      "execution_count": 30,
      "metadata": {
        "id": "0_GzwtGdklss"
      },
      "outputs": [],
      "source": [
        "W = 1000000\n",
        "r = 0.05\n",
        "mu = 0.1\n",
        "sigma = 0.07\n",
        "# Note: wealth 1 / alpha maximizes utility, so if W is within a factor of 1+r\n",
        "# exceeding 1 / alpha, the optimal behavior is to try to *lose* money.\n",
        "alpha = np.logspace(np.log10(1e-7), np.log10(1 / W), 100)\n",
        "z_best = z_star(alpha, W, r, mu, sigma)\n",
        "\n",
        "# I'm suspicious of my derived formula for z^*, so let's also check it numerically.\n",
        "z = np.logspace(np.log10(1), np.log10(1e9), 1000)\n",
        "mean, var = outcome(W, z, r, mu, sigma)\n",
        "exp_u = expected_utility(alpha[:, np.newaxis], mean, var)  # dimensions [alpha, z]\n",
        "z_best_numerical = z[np.argmax(exp_u, axis=1)]"
      ]
    },
    {
      "cell_type": "code",
      "execution_count": 31,
      "metadata": {
        "colab": {
          "base_uri": "https://localhost:8080/",
          "height": 499
        },
        "id": "KnPNSZVQnqOR",
        "outputId": "8154ae57-9a39-4d76-d0f3-c7609f333ff6"
      },
      "outputs": [
        {
          "output_type": "display_data",
          "data": {
            "text/plain": [
              "<Figure size 640x480 with 1 Axes>"
            ],
            "image/png": "[encoded data removed]"
          },
          "metadata": {}
        }
      ],
      "source": [
        "plt.plot(alpha, z_best_numerical, label='numerical solution')\n",
        "plt.plot(alpha, z_best, label='analytic solution')\n",
        "plt.xscale('log')\n",
        "plt.yscale('log')\n",
        "plt.title(f'$W={W}, r={r}$\\n $\\mu={mu}, \\sigma={sigma}$')\n",
        "plt.xlabel('$\\\\alpha$')\n",
        "plt.ylabel('$z^*$', rotation=0)\n",
        "plt.legend();"
      ]
    },
    {
      "cell_type": "markdown",
      "metadata": {
        "id": "SAMiohGxFWT7"
      },
      "source": [
        "## Question 3\n",
        "\n",
        "Assume you are playing a casino game where at every turn, if you bet a\n",
        "quantity $x$, you will be returned $x \\cdot (1 + \\alpha)$ with\n",
        "probability $p$ and returned $x \\cdot (1 - \\beta)$ with probability\n",
        "$q = 1 - p$ for $\\alpha, \\beta \\in \\mathbb{R}^+$ (i.e., the return on\n",
        "bet is $\\alpha$ with probability $p$ and $-\\beta$ with probability\n",
        "$q = 1-p$) . The problem is to identify a betting strategy that will\n",
        "maximize one's expected wealth over the long run. The optimal solution\n",
        "to this problem is known as the Kelly criterion, which involves betting\n",
        "a constant fraction of one's wealth at each turn (let us denote this\n",
        "optimal fraction as $f^*$).\n",
        "\n",
        "It is known that the Kelly criterion (formula for $f^*$) is equivalent\n",
        "to maximizing the Expected Utility of Wealth after a single bet, with\n",
        "the Utility function defined as: $U(W) = \\log(W)$. Denote your wealth\n",
        "before placing the single bet as $W_0$. Let $f$ be the fraction (to be\n",
        "solved for) of $W_0$ that you will bet. Therefore, your bet is\n",
        "$f \\cdot W_0$.\n",
        "\n",
        "-   Write down the two outcomes for wealth $W$ at the end of your single bet of $f \\cdot W_0$.\n",
        "\n",
        "-   Write down the two outcomes for $\\log$ (Utility) of $W$.\n",
        "\n",
        "-   Write down $\\mathbb{E}[\\log(W)]$.\n",
        "\n",
        "-   Take the derivative of $\\mathbb{E}[\\log(W)]$ with respect to $f$.\n",
        "\n",
        "-   Set this derivative to 0 to solve for $f^*$. Verify that this is indeed a maxima by evaluating the second derivative at $f^*$. This formula for $f^*$ is known as the Kelly Criterion.\n",
        "\n",
        "-   Convince yourself that this formula for $f^*$ makes intuitive sense (in terms of it's dependency on $\\alpha$, $\\beta$ and $p$).\n"
      ]
    },
    {
      "cell_type": "markdown",
      "metadata": {
        "id": "IxEHw-G2rx1R"
      },
      "source": [
        "---\n",
        "The amount you _don't_ bet, $W_0(1-f)$, remains unchanged, so the outcomes are\n",
        "* $W_0(f(1+\\alpha) + (1 - f)) = W_0(1 + f\\alpha)$ with probability $p$, and  \n",
        "* $W_0(f(1-\\beta) + (1 - f)) = W_0(1 - f\\beta)$ with probability $1 - p$.\n",
        "\n",
        "The outcomes for utility of $W$ are\n",
        "* $\\log(W_0) + \\log(1 + f\\alpha)$ with probability $p$, and  \n",
        "* $\\log(W_0) + \\log(1 - f\\beta)$ with probability $1 - p$."
      ]
    },
    {
      "cell_type": "markdown",
      "metadata": {
        "id": "Qop9FPogMhWX"
      },
      "source": [
        "---\n",
        "The expected utility and its first two derivatives are therefore\n",
        "$$\\begin{align*}\n",
        "\\E[\\log(W)] &= \\log W_0 + p\\log(1 + f\\alpha) + (1-p)\\log(1 - f\\beta) \\\\\n",
        "\\frac{d}{df} \\E[\\log(W)] &= p\\frac{\\alpha}{1 + f\\alpha} - (1-p)\\frac{\\beta}{1-f\\beta} \\\\\n",
        "\\frac{d^2}{df^2} \\E[\\log(W)] &= -p\\frac{\\alpha^2}{(1 + f\\alpha)^2} - (1-p)\\frac{\\beta^2}{(1-f\\beta)^2}\n",
        "\\end{align*}$$\n",
        "Setting the derivative to 0, we have that $f^*$ satisfies\n",
        "$$\\begin{align*}\n",
        "p\\frac{\\alpha}{1 + f^*\\alpha} &= (1-p)\\frac{\\beta}{1-f^*\\beta} \\\\\n",
        "p\\alpha(1 - f^*\\beta) &= (1-p)\\beta(1+f^*\\alpha) \\\\\n",
        "p\\alpha - (1 - p)\\beta &= f^*(p\\alpha\\beta + \\alpha\\beta - p\\alpha\\beta) \\\\\n",
        "& \\hspace{-3ex}\\boxed{f^* = \\frac{p}{\\beta} - \\frac{(1 - p)}{\\alpha}}\n",
        "\\end{align*}\n",
        "$$\n",
        "So long as $p$ is not 0 or 1, this $f^*$ is strictly between $-\\frac 1\\alpha$ and $\\frac 1\\beta$, so for this value of $f$ all the squares in the formula for the second derivative are positive. Since $p$ and $1-p$ are also positive, the second derivative is strictly negative, so this critical point is a maximum.\n",
        "\n",
        "This $f^*$ makes sense:\n",
        "* It is between $-\\frac 1\\alpha$ and $\\frac 1\\beta$, because betting a fraction smaller than $-\\frac 1\\alpha$ or greater than $\\frac 1\\beta$ could result in your wealth dropping to or below 0, which a logarithmic utility function regards as infinitely bad.\n",
        "  * For $\\alpha > 0$, \"betting $-\\frac 1\\alpha$\" means you act as the casino, offering the bet to somebody putting up $W_0/\\alpha$. If they win, you return the money they put up plus $W_0$, leaving you with nothing.\n",
        "  * For $\\beta > 1$, \"betting $\\frac 1\\beta$\" means taking out a loan for $(\\frac 1 \\beta - 1)W_0$ and betting it all (along with your original $W_0$). If you lose, then you're left with just enough money to pay back your loan and be left with nothing.\n",
        "* The closer $p$ is to 1 (i.e. the more certain the win), the larger a fraction we bet, and the closer $p$ is to 0, the smaller a fraction we bet.\n",
        "* If $p\\alpha = (1-p)\\beta$, then the bet has the same expected value as just holding your money, but it comes with non-zero variance. Since our utility function is concave, it makes sense that $f^*$ is zero in this case."
      ]
    },
    {
      "cell_type": "markdown",
      "metadata": {
        "id": "Tj6bSUH8FWT7"
      },
      "source": [
        "## Question 4\n",
        "\n",
        "Derive the solution to Merton's Portfolio problem for the case of the\n",
        "$\\log(\\cdot)$ Utility function. Note that the derivation in the textbook\n",
        "is for CRRA Utility function with $\\gamma \\neq 1$ and the case of the\n",
        "$\\log(\\cdot)$ Utility function was left as an exercise to the reader."
      ]
    },
    {
      "cell_type": "markdown",
      "metadata": {
        "id": "2a2K-Xa1bNl7"
      },
      "source": [
        "---\n",
        "First we recall the setup.\n",
        "* There's a riskless asset with return rate $r$, and one risky asset with mean return rate $\\mu$ and variance rate $\\sigma^2$.\n",
        "* $W_t$ is a random variable denoting our wealth at time $t$.\n",
        "* $\\pi_t = \\pi(t, W_t)$ denotes the proportion of our wealth in the risky asset at time $t$.\n",
        "* $c_t = c(t, W_t)$ denotes the amount of wealth consumed per unit time at time $t$.\n",
        "* $U(x)$ denotes our utility *per unit time* of consuming wealth $x$ *per unit time*. <font color=#FF0000>**[This is a little weird. Note that the bequest function converts to *absolute* utility of the final amount]**</font>.\n",
        "* $\\rho$ denotes our discount rate of utility.\n",
        "* We aim to bequest nothing, so we'll take the bequest function to be $\\varepsilon$ for some $0 < \\varepsilon \\ll 1$. That is, the utility we get at time $T$ is $\\varepsilon \\log(W_T)$."
      ]
    },
    {
      "cell_type": "markdown",
      "metadata": {
        "id": "HQyKsLw4ekIv"
      },
      "source": [
        "Our wealth is an It&ocirc; process satisfying\n",
        "$$\n",
        "dW_t = \\bigl((r + \\pi_t (\\mu - r))W_t - c_t \\bigr)dt + \\pi_t W_t\\sigma dz_t\n",
        "$$\n",
        "We wish to solve for the optimal value function $V^* = V^*(t, W_t)$, along with the optimal allocation and consumption functions $(\\pi^*_t, c^*_t)$. The solution must satisfy the HJB equation\n",
        "$$\n",
        "\\rho V^* dt = \\max_{\\pi_t, c_t}\\E[U(c_t)dt + dV^*]\n",
        "\\tag{HJB}\n",
        "$$\n",
        "By It&ocirc;'s lemma, we have\n",
        "$$\\begin{align*}\n",
        "dV^* &= \\Bigl(\\partial_t V^* + \\partial_W V^* \\bigl((r + \\pi_t(\\mu - r))W_t - c_t\\bigr) + \\frac 12 \\partial_W^2 V^* \\pi_t^2W_t^2\\sigma^2\\Bigr)dt + \\underbrace{\\partial_W V^* \\pi_t W_t \\sigma dz_t}_{\\text{expectation 0}}\n",
        "\\tag{Ito}\n",
        "\\end{align*}$$\n",
        "We determine the optimal $\\pi_t$ and $c_t$ by finding critical points of $\\E[U(c_t)dt + dV^*]$ with respect to those quantities. Setting the derivative with respect to $c_t$ to zero, we have\n",
        "$$\n",
        "U'(c_t^*) = \\partial_W V^*\n",
        "$$\n",
        "Since $U(x) = \\log(x)$, we have $U'(x) = 1/x$, so\n",
        "$$\n",
        "c_t^* = \\frac{1}{\\partial_W V^*}\n",
        "\\tag{c}\n",
        "$$\n",
        "\n",
        "Setting the derivative with respect to $\\pi_t$ to zero, we have\n",
        "$$\n",
        "\\partial_W V^* (\\mu - r)W_t +  \\partial_W^2 V^* \\pi_t^* W_t^2 \\sigma^2 = 0\n",
        "$$\n",
        "$$\n",
        "\\pi_t^* = -\\frac{\\mu - r}{\\sigma^2}\\cdot \\frac{\\partial_W V^*}{W_t\\partial_W^2 V^*} \\tag{$\\pi$}\n",
        "$$"
      ]
    },
    {
      "cell_type": "markdown",
      "metadata": {
        "id": "VK9dXeT3opIp"
      },
      "source": [
        "Plugging these values of $c_t^*$ and $\\pi_t^*$ into equation (Ito), and plugging that into equation (HJB), we have that $V^*$ satisfies the PDE\n",
        "$$\\begin{align*}\n",
        "\\rho V^* &= -\\log(\\partial_W V^*) + \\partial_t V^* + \\partial_W V^* \\Bigl(rW_t -\\frac{(\\mu - r)^2}{\\sigma^2}\\cdot \\frac{\\partial_W V^*}{\\partial_W^2 V^*} - \\frac{1}{\\partial_W V^*}\\Bigr) + \\frac 12  \\frac{(\\mu - r)^2}{\\sigma^2}\\cdot \\frac{(\\partial_W V^*)^2}{\\partial_W^2 V^*}\n",
        "\\end{align*}$$\n",
        "and is subject to the boundary condition\n",
        "$$\n",
        "V^*(T, W_T) = \\varepsilon \\log(W_T)\n",
        "$$"
      ]
    },
    {
      "cell_type": "markdown",
      "metadata": {
        "id": "cM6arv_Urond"
      },
      "source": [
        "Let's take a guess that $V^*$ is of the form\n",
        "$$\n",
        "V^*(t, W_t) = g(t) + f(t) \\log(W_t)\n",
        "$$\n",
        "for some functions $g(t)$ and $f(t)$, which are subject to the bounardy conditions $g(T) = 0$, $f(T) = \\varepsilon$. We then have that\n",
        "$$\\begin{align*}\n",
        "\\partial_t V^* &= g' + f'\\log W_t \\\\\n",
        "\\partial_W V^* &= \\frac{f}{W_t}\\\\\n",
        "\\partial_W^2 V^* &= -\\frac{f}{W_t^2}\n",
        "\\end{align*}$$\n",
        "Plugging this into the PDE above, we have\n",
        "$$\n",
        "\\rho g + \\rho f \\log W = \\log W - \\log f + g' + f'\\log W + \\underbrace{\\Bigl( r + \\frac{(\\mu - r)^2}{2\\sigma^2}\\Bigr)}_{\\nu}f - 1\n",
        "$$\n",
        "Let's define $\\nu$ to be the braced quantity.\n",
        "\n",
        "If we choose\n",
        "$$\n",
        "f(t) = \\begin{cases}\n",
        "  (1 + (\\rho\\varepsilon - 1)e^{\\rho (t - T)})/\\rho & \\text{if }\\rho \\neq 0\\\\\n",
        "  T-t + \\varepsilon & \\text{if }\\rho = 0\n",
        "\\end{cases}$$\n",
        "then it satisfies $f' = \\rho f - 1$ and $f(T) = \\varepsilon$, so the equation simplifies to something with no dependence on $W_t$:\n",
        "$$\n",
        "\\rho g = g' -\\log f + \\nu f - 1\\\\\n",
        "g' = \\rho g + 1 + \\log f - \\nu f\n",
        "$$\n",
        "which we subject to the boundary condition $g(T) = 0$ to make the bequest work out."
      ]
    },
    {
      "cell_type": "markdown",
      "metadata": {
        "id": "1V371OB6QOXe"
      },
      "source": [
        "If $\\rho = 0$, this is solved by\n",
        "$$\n",
        "g(t) = \\frac \\nu 2 (T - t + \\varepsilon)^2 - (T - t + \\varepsilon)\\log(T - t + \\varepsilon) + \\varepsilon\\log \\varepsilon - \\frac{\\nu \\varepsilon^2}{2}\n",
        "$$\n",
        "so we have\n",
        "$$\\begin{align*}\n",
        "V^*(t, W_t) &= \\frac \\nu 2 (T - t + \\varepsilon)^2 - (T - t + \\varepsilon)\\log(T - t + \\varepsilon) + \\varepsilon\\log \\varepsilon - \\frac{\\nu \\varepsilon^2}{2} + (T - t + \\varepsilon)\\log(W_t) \\\\\n",
        "c^*(t, W_t) &= \\frac{W_t}{(T - t + \\varepsilon)} \\\\\n",
        "\\pi^*(t, W_t) &= \\frac{\\mu - r}{\\sigma^2}\n",
        "\\end{align*}$$"
      ]
    },
    {
      "cell_type": "markdown",
      "metadata": {
        "id": "lgK6s_wtR-tE"
      },
      "source": [
        "If $\\rho \\neq 0$, $g$ is some other function which I don't want to solve for, but $c^*$ and $\\pi^*$ only depend on the derivatives of $V^*$ with respect to $W_t$, which do not depend on whatever $g$ works out to be. They are\n",
        "$$\\begin{align*}\n",
        "c^*(t, W_t) &= \\frac{W_t \\rho}{1 + (\\rho\\varepsilon - 1)e^{\\rho (t - T)}} \\\\\n",
        "\\pi^*(t, W_t) &= \\frac{\\mu - r}{\\sigma^2}\n",
        "\\end{align*}$$"
      ]
    }
  ],
  "metadata": {
    "colab": {
      "provenance": [],
      "include_colab_link": true
    },
    "kernelspec": {
      "display_name": "Python 3",
      "name": "python3"
    },
    "language_info": {
      "name": "python"
    }
  },
  "nbformat": 4,
  "nbformat_minor": 0
}